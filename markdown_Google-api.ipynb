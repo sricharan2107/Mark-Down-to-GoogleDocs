{
  "nbformat": 4,
  "nbformat_minor": 0,
  "metadata": {
    "colab": {
      "provenance": []
    },
    "kernelspec": {
      "name": "python3",
      "display_name": "Python 3"
    },
    "language_info": {
      "name": "python"
    }
  },
  "cells": [
    {
      "cell_type": "code",
      "execution_count": 1,
      "metadata": {
        "id": "wY9B9AJaCssd",
        "colab": {
          "base_uri": "https://localhost:8080/"
        },
        "outputId": "42dd9ad6-4a8f-4555-d131-27af0af3c0c8"
      },
      "outputs": [
        {
          "output_type": "stream",
          "name": "stdout",
          "text": [
            "Requirement already satisfied: google-auth in /usr/local/lib/python3.11/dist-packages (2.27.0)\n",
            "Requirement already satisfied: google-auth-oauthlib in /usr/local/lib/python3.11/dist-packages (1.2.1)\n",
            "Requirement already satisfied: google-auth-httplib2 in /usr/local/lib/python3.11/dist-packages (0.2.0)\n",
            "Requirement already satisfied: google-api-python-client in /usr/local/lib/python3.11/dist-packages (2.155.0)\n",
            "Collecting markdown2\n",
            "  Downloading markdown2-2.5.3-py3-none-any.whl.metadata (2.1 kB)\n",
            "Requirement already satisfied: cachetools<6.0,>=2.0.0 in /usr/local/lib/python3.11/dist-packages (from google-auth) (5.5.1)\n",
            "Requirement already satisfied: pyasn1-modules>=0.2.1 in /usr/local/lib/python3.11/dist-packages (from google-auth) (0.4.1)\n",
            "Requirement already satisfied: rsa<5,>=3.1.4 in /usr/local/lib/python3.11/dist-packages (from google-auth) (4.9)\n",
            "Requirement already satisfied: requests-oauthlib>=0.7.0 in /usr/local/lib/python3.11/dist-packages (from google-auth-oauthlib) (1.3.1)\n",
            "Requirement already satisfied: httplib2>=0.19.0 in /usr/local/lib/python3.11/dist-packages (from google-auth-httplib2) (0.22.0)\n",
            "Requirement already satisfied: google-api-core!=2.0.*,!=2.1.*,!=2.2.*,!=2.3.0,<3.0.0.dev0,>=1.31.5 in /usr/local/lib/python3.11/dist-packages (from google-api-python-client) (2.19.2)\n",
            "Requirement already satisfied: uritemplate<5,>=3.0.1 in /usr/local/lib/python3.11/dist-packages (from google-api-python-client) (4.1.1)\n",
            "Requirement already satisfied: googleapis-common-protos<2.0.dev0,>=1.56.2 in /usr/local/lib/python3.11/dist-packages (from google-api-core!=2.0.*,!=2.1.*,!=2.2.*,!=2.3.0,<3.0.0.dev0,>=1.31.5->google-api-python-client) (1.66.0)\n",
            "Requirement already satisfied: protobuf!=3.20.0,!=3.20.1,!=4.21.0,!=4.21.1,!=4.21.2,!=4.21.3,!=4.21.4,!=4.21.5,<6.0.0.dev0,>=3.19.5 in /usr/local/lib/python3.11/dist-packages (from google-api-core!=2.0.*,!=2.1.*,!=2.2.*,!=2.3.0,<3.0.0.dev0,>=1.31.5->google-api-python-client) (4.25.6)\n",
            "Requirement already satisfied: proto-plus<2.0.0dev,>=1.22.3 in /usr/local/lib/python3.11/dist-packages (from google-api-core!=2.0.*,!=2.1.*,!=2.2.*,!=2.3.0,<3.0.0.dev0,>=1.31.5->google-api-python-client) (1.26.0)\n",
            "Requirement already satisfied: requests<3.0.0.dev0,>=2.18.0 in /usr/local/lib/python3.11/dist-packages (from google-api-core!=2.0.*,!=2.1.*,!=2.2.*,!=2.3.0,<3.0.0.dev0,>=1.31.5->google-api-python-client) (2.32.3)\n",
            "Requirement already satisfied: pyparsing!=3.0.0,!=3.0.1,!=3.0.2,!=3.0.3,<4,>=2.4.2 in /usr/local/lib/python3.11/dist-packages (from httplib2>=0.19.0->google-auth-httplib2) (3.2.1)\n",
            "Requirement already satisfied: pyasn1<0.7.0,>=0.4.6 in /usr/local/lib/python3.11/dist-packages (from pyasn1-modules>=0.2.1->google-auth) (0.6.1)\n",
            "Requirement already satisfied: oauthlib>=3.0.0 in /usr/local/lib/python3.11/dist-packages (from requests-oauthlib>=0.7.0->google-auth-oauthlib) (3.2.2)\n",
            "Requirement already satisfied: charset-normalizer<4,>=2 in /usr/local/lib/python3.11/dist-packages (from requests<3.0.0.dev0,>=2.18.0->google-api-core!=2.0.*,!=2.1.*,!=2.2.*,!=2.3.0,<3.0.0.dev0,>=1.31.5->google-api-python-client) (3.4.1)\n",
            "Requirement already satisfied: idna<4,>=2.5 in /usr/local/lib/python3.11/dist-packages (from requests<3.0.0.dev0,>=2.18.0->google-api-core!=2.0.*,!=2.1.*,!=2.2.*,!=2.3.0,<3.0.0.dev0,>=1.31.5->google-api-python-client) (3.10)\n",
            "Requirement already satisfied: urllib3<3,>=1.21.1 in /usr/local/lib/python3.11/dist-packages (from requests<3.0.0.dev0,>=2.18.0->google-api-core!=2.0.*,!=2.1.*,!=2.2.*,!=2.3.0,<3.0.0.dev0,>=1.31.5->google-api-python-client) (2.3.0)\n",
            "Requirement already satisfied: certifi>=2017.4.17 in /usr/local/lib/python3.11/dist-packages (from requests<3.0.0.dev0,>=2.18.0->google-api-core!=2.0.*,!=2.1.*,!=2.2.*,!=2.3.0,<3.0.0.dev0,>=1.31.5->google-api-python-client) (2024.12.14)\n",
            "Downloading markdown2-2.5.3-py3-none-any.whl (48 kB)\n",
            "\u001b[2K   \u001b[90m━━━━━━━━━━━━━━━━━━━━━━━━━━━━━━━━━━━━━━━━\u001b[0m \u001b[32m48.5/48.5 kB\u001b[0m \u001b[31m1.7 MB/s\u001b[0m eta \u001b[36m0:00:00\u001b[0m\n",
            "\u001b[?25hInstalling collected packages: markdown2\n",
            "Successfully installed markdown2-2.5.3\n"
          ]
        }
      ],
      "source": [
        "!pip install google-auth google-auth-oauthlib google-auth-httplib2 google-api-python-client markdown2\n"
      ]
    },
    {
      "cell_type": "code",
      "source": [
        "from google.colab import auth\n",
        "from googleapiclient.discovery import build\n",
        "\n",
        "# Authenticate\n",
        "auth.authenticate_user()\n",
        "\n",
        "# Use the built-in credentials for Google Docs API\n",
        "creds, _ = google.auth.default()\n",
        "service = build('docs', 'v1', credentials=creds)\n"
      ],
      "metadata": {
        "id": "m1hJmhhgOlCq"
      },
      "execution_count": 17,
      "outputs": []
    },
    {
      "cell_type": "code",
      "source": [
        "from google.colab import auth\n",
        "from googleapiclient.discovery import build\n",
        "from google.auth.transport.requests import Request\n",
        "from google.oauth2.credentials import Credentials\n",
        "from google.auth.exceptions import RefreshError\n",
        "from google_auth_oauthlib.flow import InstalledAppFlow\n",
        "import google.auth\n",
        "\n",
        "# Authenticate using Google Colab's built-in method\n",
        "auth.authenticate_user()\n",
        "\n",
        "# Define Google API scopes\n",
        "SCOPES = ['https://www.googleapis.com/auth/documents', 'https://www.googleapis.com/auth/drive']\n",
        "\n",
        "# Load default credentials (Colab provides automatic authentication for Google Drive)\n",
        "creds, _ = google.auth.default()\n",
        "\n",
        "# Build the Google Docs API client\n",
        "service = build('docs', 'v1', credentials=creds)\n",
        "\n",
        "print(\"Authentication successful! Google Docs API is ready to use.\")\n"
      ],
      "metadata": {
        "colab": {
          "base_uri": "https://localhost:8080/"
        },
        "id": "yA6aLTVUHfWk",
        "outputId": "1d1595c0-dcde-47f4-b034-673b7e28c505"
      },
      "execution_count": 49,
      "outputs": [
        {
          "output_type": "stream",
          "name": "stdout",
          "text": [
            "Authentication successful! Google Docs API is ready to use.\n"
          ]
        }
      ]
    },
    {
      "cell_type": "code",
      "source": [
        "\n"
      ],
      "metadata": {
        "id": "LPhF-8FDL_Fq"
      },
      "execution_count": 57,
      "outputs": []
    },
    {
      "cell_type": "code",
      "source": [
        "import os\n",
        "print(os.listdir())  # This will list all files in the current directory\n",
        "\n"
      ],
      "metadata": {
        "colab": {
          "base_uri": "https://localhost:8080/"
        },
        "id": "VHUcN4cEL3bF",
        "outputId": "7806aefe-c6fd-4530-ca2f-0b7815d00107"
      },
      "execution_count": 7,
      "outputs": [
        {
          "output_type": "stream",
          "name": "stdout",
          "text": [
            "['.config', 'credentials.json', 'sample_data']\n"
          ]
        }
      ]
    },
    {
      "cell_type": "code",
      "source": [
        "markdown_text = \"\"\"# Product Team Sync - May 15, 2023\n",
        "\n",
        "## Attendees\n",
        "- Sarah Chen (Product Lead)\n",
        "- Mike Johnson (Engineering)\n",
        "- Anna Smith (Design)\n",
        "- David Park (QA)\n",
        "\n",
        "## Agenda\n",
        "\n",
        "### 1. Sprint Review\n",
        "* Completed Features\n",
        "  * User authentication flow\n",
        "  * Dashboard redesign\n",
        "  * Performance optimization\n",
        "    * Reduced load time by 40%\n",
        "    * Implemented caching solution\n",
        "* Pending Items\n",
        "  * Mobile responsive fixes\n",
        "  * Beta testing feedback integration\n",
        "\n",
        "### 2. Current Challenges\n",
        "* Resource constraints in QA team\n",
        "* Third-party API integration delays\n",
        "* User feedback on new UI\n",
        "  * Navigation confusion\n",
        "  * Color contrast issues\n",
        "\n",
        "### 3. Next Sprint Planning\n",
        "* Priority Features\n",
        "  * Payment gateway integration\n",
        "  * User profile enhancement\n",
        "  * Analytics dashboard\n",
        "* Technical Debt\n",
        "  * Code refactoring\n",
        "  * Documentation updates\n",
        "\n",
        "## Action Items\n",
        "- [ ] @sarah: Finalize Q3 roadmap by Friday\n",
        "- [ ] @mike: Schedule technical review for payment integration\n",
        "- [ ] @anna: Share updated design system documentation\n",
        "- [ ] @david: Prepare QA resource allocation proposal\n",
        "\n",
        "## Next Steps\n",
        "* Schedule individual team reviews\n",
        "* Update sprint board\n",
        "* Share meeting summary with stakeholders\n",
        "\n",
        "## Notes\n",
        "* Next sync scheduled for May 22, 2023\n",
        "* Platform demo for stakeholders on May 25\n",
        "* Remember to update JIRA tickets\n",
        "\n",
        "---\n",
        "Meeting recorded by: Sarah Chen\n",
        "Duration: 45 minutes\n",
        "\"\"\"\n"
      ],
      "metadata": {
        "id": "V7k9hUdQJ-vF"
      },
      "execution_count": 23,
      "outputs": []
    },
    {
      "cell_type": "code",
      "source": [
        "# Create a new Google Doc\n",
        "doc = service.documents().create(body={\"title\": \"Product Team Sync - Meeting Notes\"}).execute()\n",
        "document_id = doc[\"documentId\"]\n",
        "\n",
        "print(f\"Created document with ID: {document_id}\")\n"
      ],
      "metadata": {
        "colab": {
          "base_uri": "https://localhost:8080/"
        },
        "id": "ghGfwEvTP3KJ",
        "outputId": "92a6eda6-b382-4a63-e77f-a9b7bb0e7919"
      },
      "execution_count": 21,
      "outputs": [
        {
          "output_type": "stream",
          "name": "stdout",
          "text": [
            "Created document with ID: 1RwyEsiG3jEbCEVE8wl2L_hlu0LWWLli2HwEFaZx8RQg\n"
          ]
        }
      ]
    },
    {
      "cell_type": "code",
      "source": [
        "def format_google_docs_content(service, document_id, markdown_text):\n",
        "    #  Geting  actual document length before deleting\n",
        "    doc = service.documents().get(documentId=document_id).execute()\n",
        "    doc_length = doc.get(\"body\").get(\"content\")[-1][\"endIndex\"]\n",
        "\n",
        "    #  Clear the existing content safely\n",
        "    if doc_length > 1:\n",
        "        requests = [{\n",
        "            \"deleteContentRange\": {\n",
        "                \"range\": {\"startIndex\": 1, \"endIndex\": doc_length - 1}  # Use actual document length\n",
        "            }\n",
        "        }]\n",
        "        service.documents().batchUpdate(documentId=document_id, body={\"requests\": requests}).execute()\n",
        "\n",
        "    #  Insert new formatted content\n",
        "    lines = markdown_text.split(\"\\n\")\n",
        "    requests = []\n",
        "\n",
        "    # Prepare text for insertion\n",
        "    text_content = \"\"\n",
        "    for line in lines:\n",
        "        # Remove # from headings before inserting\n",
        "        if line.startswith(\"# \"):\n",
        "            text_content += line[2:] + \"\\n\"\n",
        "        elif line.startswith(\"## \"):\n",
        "            text_content += line[3:] + \"\\n\"\n",
        "        elif line.startswith(\"### \"):\n",
        "            text_content += line[4:] + \"\\n\"\n",
        "        else:\n",
        "            text_content += line + \"\\n\"\n",
        "\n",
        "    # Insert entire content at once to prevent indexing issues\n",
        "    requests.append({\n",
        "        \"insertText\": {\n",
        "            \"location\": {\"index\": 1},\n",
        "            \"text\": text_content\n",
        "        }\n",
        "    })\n",
        "\n",
        "    # Apply changes to clear and insert content\n",
        "    service.documents().batchUpdate(documentId=document_id, body={\"requests\": requests}).execute()\n",
        "\n",
        "    # Get updated document structure to fix index issues\n",
        "    doc = service.documents().get(documentId=document_id).execute()\n",
        "    content = doc.get(\"body\").get(\"content\")\n",
        "\n",
        "    # Apply Formatting (Headings, Checkboxes, Mentions, Footer)\n",
        "    requests = []  # Reset requests for styling\n",
        "    start_index = 1  # Start index for formatting\n",
        "    checkbox_count = 0  # Track number of checkboxes\n",
        "\n",
        "    for element in content:\n",
        "        if \"paragraph\" in element and \"elements\" in element[\"paragraph\"]:\n",
        "            for elem in element[\"paragraph\"][\"elements\"]:\n",
        "                text = elem[\"textRun\"][\"content\"] if \"textRun\" in elem else \"\"\n",
        "                text_start = elem[\"startIndex\"]\n",
        "                text_end = elem[\"endIndex\"]\n",
        "\n",
        "                #  heading styles\n",
        "                if text.startswith(\"Product Team Sync\"):  # Heading 1\n",
        "                    requests.append({\n",
        "                        \"updateParagraphStyle\": {\n",
        "                            \"range\": {\"startIndex\": text_start, \"endIndex\": text_end},\n",
        "                            \"paragraphStyle\": {\"namedStyleType\": \"HEADING_1\"},\n",
        "                            \"fields\": \"*\"\n",
        "                        }\n",
        "                    })\n",
        "                elif text.strip() in [\"Attendees\", \"Agenda\", \"Action Items\", \"Next Steps\", \"Notes\"]:  # Heading 2\n",
        "                    requests.append({\n",
        "                        \"updateParagraphStyle\": {\n",
        "                            \"range\": {\"startIndex\": text_start, \"endIndex\": text_end},\n",
        "                            \"paragraphStyle\": {\"namedStyleType\": \"HEADING_2\"},\n",
        "                            \"fields\": \"*\"\n",
        "                        }\n",
        "                    })\n",
        "                elif text.strip() in [\"1. Sprint Review\", \"2. Current Challenges\", \"3. Next Sprint Planning\"]:  # Heading 3 inside Agenda\n",
        "                    requests.append({\n",
        "                        \"updateParagraphStyle\": {\n",
        "                            \"range\": {\"startIndex\": text_start, \"endIndex\": text_end},\n",
        "                            \"paragraphStyle\": {\"namedStyleType\": \"HEADING_3\"},\n",
        "                            \"fields\": \"*\"\n",
        "                        }\n",
        "                    })\n",
        "\n",
        "                # Convert checkboxes only for Sarah, Mike, Anna, and David\n",
        "                if text.startswith(\"- [ ]\") and checkbox_count < 4:\n",
        "                    requests.append({\n",
        "                        \"createParagraphBullets\": {\n",
        "                            \"range\": {\"startIndex\": text_start, \"endIndex\": text_end},\n",
        "                            \"bulletPreset\": \"BULLET_CHECKBOX\"\n",
        "                        }\n",
        "                    })\n",
        "\n",
        "\n",
        "                    requests.append({\n",
        "                        \"updateTextStyle\": {\n",
        "                            \"range\": {\"startIndex\": text_start, \"endIndex\": text_end},\n",
        "                            \"textStyle\": {\"fontSize\": {\"magnitude\": 12, \"unit\": \"PT\"}},\n",
        "                            \"fields\": \"fontSize\"\n",
        "                        }\n",
        "                    })\n",
        "\n",
        "                    checkbox_count += 1  # Increment checkbox count\n",
        "\n",
        "                # Highlight @mentions in blue and bold\n",
        "                if \"@sarah\" in text or \"@mike\" in text or \"@anna\" in text or \"@david\" in text:\n",
        "                    requests.append({\n",
        "                        \"updateTextStyle\": {\n",
        "                            \"range\": {\"startIndex\": text_start, \"endIndex\": text_end},\n",
        "                            \"textStyle\": {\n",
        "                                \"bold\": True,\n",
        "                                \"foregroundColor\": {\"color\": {\"rgbColor\": {\"red\": 0, \"green\": 0, \"blue\": 1}}}\n",
        "                            },\n",
        "                            \"fields\": \"*\"\n",
        "                        }\n",
        "                    })\n",
        "\n",
        "                # Format Footer (Meeting recorded by, Duration) - Italicized + Grey\n",
        "                if \"Meeting recorded by\" in text or \"Duration\" in text:\n",
        "                    requests.append({\n",
        "                        \"updateTextStyle\": {\n",
        "                            \"range\": {\"startIndex\": text_start, \"endIndex\": text_end},\n",
        "                            \"textStyle\": {\n",
        "                                \"italic\": True,\n",
        "                                \"foregroundColor\": {\"color\": {\"rgbColor\": {\"red\": 0.5, \"green\": 0.5, \"blue\": 0.5}}}\n",
        "                            },\n",
        "                            \"fields\": \"*\"\n",
        "                        }\n",
        "                    })\n",
        "\n",
        "    # Send formatting requests after text is inserted\n",
        "    service.documents().batchUpdate(documentId=document_id, body={\"requests\": requests}).execute()\n",
        "\n",
        "    print(f\" Formatted document available at: https://docs.google.com/document/d/{document_id}\")\n",
        "\n",
        "# Run the function to format content in Google Docs\n",
        "format_google_docs_content(service, document_id, markdown_text)\n"
      ],
      "metadata": {
        "colab": {
          "base_uri": "https://localhost:8080/"
        },
        "id": "wi9G3G93P7Z_",
        "outputId": "1f5fad83-066a-47ca-9db2-1e20d620357d"
      },
      "execution_count": 55,
      "outputs": [
        {
          "output_type": "stream",
          "name": "stdout",
          "text": [
            " Formatted document available at: https://docs.google.com/document/d/1RwyEsiG3jEbCEVE8wl2L_hlu0LWWLli2HwEFaZx8RQg\n"
          ]
        }
      ]
    },
    {
      "cell_type": "code",
      "source": [],
      "metadata": {
        "id": "VfHII97LQPf6"
      },
      "execution_count": null,
      "outputs": []
    }
  ]
}